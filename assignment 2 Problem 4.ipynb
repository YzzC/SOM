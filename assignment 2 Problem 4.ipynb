{
 "cells": [
  {
   "cell_type": "code",
   "execution_count": 1,
   "metadata": {},
   "outputs": [],
   "source": [
    "import numpy as np\n",
    "import random\n",
    "import matplotlib.pyplot as plt\n",
    "%matplotlib inline"
   ]
  },
  {
   "cell_type": "code",
   "execution_count": 2,
   "metadata": {},
   "outputs": [],
   "source": [
    "palette = [(255,0,0),(139,0,0),(178,34,34),(205,92,92),\n",
    "           (0,128,0),(124,252,0),(85,107,47),(50,205,50),\n",
    "           (0,0,255),(0,0,128),(135,206,235),(100,149,237),\n",
    "           (255,255,0),(255,215,0),(240,230,140),(218,165,32),\n",
    "           (0,128,128),(32,178,170),(47,79,79),(95,158,160),\n",
    "           (255,192,203),(255,105,180),(255,20,147),(255,0,255)]\n",
    "\n",
    "#change RGB value into [0,1]\n",
    "palette = np.array(palette) /256"
   ]
  },
  {
   "cell_type": "code",
   "execution_count": 3,
   "metadata": {},
   "outputs": [],
   "source": [
    "class KSOM:\n",
    "    def __init__(self, sigma, init_weight, init_lr):\n",
    "        self.sigma = sigma\n",
    "        self.weight = init_weight\n",
    "        self.lr = init_lr\n",
    "        # we need indices to find the position of the neighborhood\n",
    "        # with minimum distance\n",
    "        self.ref = np.asarray(np.split(np.array([(i, j) for i in range(100) for j in range(100)]), 100))\n",
    "    \n",
    "    #euclidean_squared, compute_neighborhood, update_sigma and update_alpha is the formula given in the problem statement\n",
    "    def euclidean_squared(self, x1, x2):\n",
    "        return np.sum((x1 - x2)**2, axis=-1)\n",
    "    \n",
    "    def compute_neighborhood(self, winning_unit, _ref, sigma):\n",
    "        return np.exp(-self.euclidean_squared(winning_unit, _ref) / (2 * sigma**2))\n",
    "    \n",
    "    def update_sigma(self, epcoh, num_epochs):\n",
    "        return self.sigma * np.exp(- (epoch / num_epochs))\n",
    "    \n",
    "    def update_alpha(self, epcoh, num_epochs):\n",
    "        return self.lr * np.exp(- (epoch / num_epochs))\n",
    "    \n",
    "    def fit(self, color, sigma, alpha):\n",
    "        dist = self.euclidean_squared(self.weight, color)\n",
    "        winning_unit = np.unravel_index(np.argmin(dist), dist.shape) #get minDistance\n",
    "        neighborhood = self.compute_neighborhood(winning_unit, self.ref, sigma)\n",
    "        self.weight = self.weight + alpha * neighborhood[:, :, np.newaxis] * (color - self.weight) #update weigths\n",
    "    \n",
    "    def plot_weight(self):\n",
    "        plt.imshow(self.weight)"
   ]
  },
  {
   "cell_type": "markdown",
   "metadata": {},
   "source": [
    "## PART A"
   ]
  },
  {
   "cell_type": "markdown",
   "metadata": {},
   "source": [
    "1. Initial random weights  \n",
    "2. plot different epoch and sigma figure"
   ]
  },
  {
   "cell_type": "code",
   "execution_count": null,
   "metadata": {},
   "outputs": [],
   "source": [
    "# initialize weights\n",
    "init_weight = np.random.uniform(0, 1, (100, 100, 3))\n",
    "\n",
    "sigmas = [1, 10, 30, 50, 70]\n",
    "EPOCHES = [20, 40, 100, 1000]\n",
    "\n",
    "c = len(EPOCHES)\n",
    "r = len(sigmas)\n",
    "i = 0\n",
    "fig = plt.figure(figsize=(20,20))\n",
    "for sigma in sigmas:\n",
    "    model = KSOM(sigma, init_weight, 0.8)\n",
    "    for epoch in EPOCHES:\n",
    "        for e in range(epoch):\n",
    "            s = model.update_sigma(e, epoch)\n",
    "            alpha = model.update_alpha(e, epoch)\n",
    "            for color in palette:\n",
    "                model.fit(color, s, alpha)\n",
    "        i += 1\n",
    "        ax = fig.add_subplot(r, c, i)\n",
    "        # as the epoch starts from 0\n",
    "        ax.title.set_text(\"epochs: {0}, sigma: {1}\".format(e+1, sigma))\n",
    "        model.plot_weight()\n",
    "    "
   ]
  },
  {
   "cell_type": "markdown",
   "metadata": {},
   "source": [
    "## PART B"
   ]
  },
  {
   "cell_type": "markdown",
   "metadata": {},
   "source": [
    "1. For the same sigma, as increasing the epochs, the border is much clear. And the same color area which cluster together is larger, which can show clearly on sigma10, the second row.  \n",
    "2. For the same epoch, as increasing the sigma, the image and the borders among different colors are more blur. And the color image is larger, such as epoch40&sigma70 pink area is larger than epoch40&sigma1 pink area.  "
   ]
  },
  {
   "cell_type": "markdown",
   "metadata": {},
   "source": [
    "## Change sigma_0"
   ]
  },
  {
   "cell_type": "markdown",
   "metadata": {},
   "source": [
    "If want to change sigma_0, then just change the code cell[4], where there is a sentence:  \n",
    "sigmas = [1, 10, 30, 50, 70] --> sigmas = [whatever number you want to test]  \n",
    "Changing sigmas_list into another_sigmas_list can replicate the output successfully."
   ]
  }
 ],
 "metadata": {
  "kernelspec": {
   "display_name": "Python 3",
   "language": "python",
   "name": "python3"
  },
  "language_info": {
   "codemirror_mode": {
    "name": "ipython",
    "version": 3
   },
   "file_extension": ".py",
   "mimetype": "text/x-python",
   "name": "python",
   "nbconvert_exporter": "python",
   "pygments_lexer": "ipython3",
   "version": "3.7.4"
  }
 },
 "nbformat": 4,
 "nbformat_minor": 2
}
